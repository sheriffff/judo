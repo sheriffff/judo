{
 "cells": [
  {
   "cell_type": "markdown",
   "metadata": {},
   "source": [
    "## Youtube"
   ]
  },
  {
   "cell_type": "markdown",
   "metadata": {},
   "source": [
    "Hay mucho lío aquí, ver y limpiar"
   ]
  },
  {
   "cell_type": "markdown",
   "metadata": {},
   "source": [
    "problema: cuando falla uno salta una pestaña y jode el resto..."
   ]
  },
  {
   "cell_type": "code",
   "execution_count": 8,
   "metadata": {
    "collapsed": true
   },
   "outputs": [],
   "source": [
    "some_videos = all_battles[all_battles.local=='WADA Rinoko'].url_video\n",
    "\n",
    "for i, url_video in enumerate(some_videos):\n",
    "    if i % 20 == -1:\n",
    "        print(i)\n",
    "    \n",
    "    if url_video is None:\n",
    "        continue\n",
    "    # else\n",
    "    \n",
    "    try:\n",
    "        local, opponent, url_youtube = get_info_video_judobase(driver, url_video)\n",
    "    except:\n",
    "        local, opponent, url_youtube = ('error',) * 3\n",
    "        \n",
    "    # assert 'https://www.youtube.com/watch?' in url_youtube, f'Strange url_youtube: {url_youtube}'\n",
    "\n",
    "    conn.query(\n",
    "        f'''\n",
    "        INSERT OR IGNORE INTO videos_info \n",
    "        (url_video, url_youtube, local, opponent) \n",
    "        VALUES\n",
    "        (\"{url_video+'bb'}\", \"{url_youtube}\", \"{local}\", \"{opponent}\");\n",
    "        '''\n",
    "    )"
   ]
  },
  {
   "cell_type": "code",
   "execution_count": 11,
   "metadata": {},
   "outputs": [
    {
     "data": {
      "text/html": [
       "<div>\n",
       "<style scoped>\n",
       "    .dataframe tbody tr th:only-of-type {\n",
       "        vertical-align: middle;\n",
       "    }\n",
       "\n",
       "    .dataframe tbody tr th {\n",
       "        vertical-align: top;\n",
       "    }\n",
       "\n",
       "    .dataframe thead th {\n",
       "        text-align: right;\n",
       "    }\n",
       "</style>\n",
       "<table border=\"1\" class=\"dataframe\">\n",
       "  <thead>\n",
       "    <tr style=\"text-align: right;\">\n",
       "      <th></th>\n",
       "      <th>url_video</th>\n",
       "      <th>url_youtube</th>\n",
       "      <th>local</th>\n",
       "      <th>opponent</th>\n",
       "    </tr>\n",
       "  </thead>\n",
       "  <tbody>\n",
       "    <tr>\n",
       "      <th>0</th>\n",
       "      <td>https://judobase.ijf.org/#/competition/contest...</td>\n",
       "      <td>https://www.youtube.com/watch?v=8b7mZQsTmK0</td>\n",
       "      <td>LOPEZ SHERIFF Estrella</td>\n",
       "      <td>PARK Da Sol</td>\n",
       "    </tr>\n",
       "    <tr>\n",
       "      <th>1</th>\n",
       "      <td>https://judobase.ijf.org/#/competition/contest...</td>\n",
       "      <td>https://www.youtube.com/watch?v=HdqymnSiloc</td>\n",
       "      <td>LOPEZ SHERIFF Estrella</td>\n",
       "      <td>JIMENEZ Kristine</td>\n",
       "    </tr>\n",
       "    <tr>\n",
       "      <th>2</th>\n",
       "      <td>https://judobase.ijf.org/#/competition/contest...</td>\n",
       "      <td>https://www.youtube.com/watch?v=JgPOEHOJ2jo</td>\n",
       "      <td>LOPEZ SHERIFF Estrella</td>\n",
       "      <td>GNETO Astride</td>\n",
       "    </tr>\n",
       "    <tr>\n",
       "      <th>3</th>\n",
       "      <td>https://judobase.ijf.org/#/competition/contest...</td>\n",
       "      <td>https://www.youtube.com/watch?v=xpd4OZFzESk</td>\n",
       "      <td>LOPEZ SHERIFF Estrella</td>\n",
       "      <td>TSCHOPP Evelyne</td>\n",
       "    </tr>\n",
       "    <tr>\n",
       "      <th>4</th>\n",
       "      <td>https://judobase.ijf.org/#/competition/contest...</td>\n",
       "      <td>https://www.youtube.com/watch?v=FJmiFvoi8Ro</td>\n",
       "      <td>LOPEZ SHERIFF Estrella</td>\n",
       "      <td>JIMENEZ Kristine</td>\n",
       "    </tr>\n",
       "    <tr>\n",
       "      <th>5</th>\n",
       "      <td>https://judobase.ijf.org/#/competition/contest...</td>\n",
       "      <td>https://www.youtube.com/watch?v=RfaQdGW0NwY</td>\n",
       "      <td>LOPEZ SHERIFF Estrella</td>\n",
       "      <td>KOSE Mai</td>\n",
       "    </tr>\n",
       "    <tr>\n",
       "      <th>6</th>\n",
       "      <td>https://judobase.ijf.org/#/competition/contest...</td>\n",
       "      <td>https://www.youtube.com/watch?v=U00rk9umAkY</td>\n",
       "      <td>LOPEZ SHERIFF Estrella</td>\n",
       "      <td>KRASNIQI Distria</td>\n",
       "    </tr>\n",
       "    <tr>\n",
       "      <th>7</th>\n",
       "      <td>https://judobase.ijf.org/#/competition/contest...</td>\n",
       "      <td>https://www.youtube.com/watch?v=kLIefZ6V2L4</td>\n",
       "      <td>LOPEZ SHERIFF Estrella</td>\n",
       "      <td>KUTSENKO Aigul</td>\n",
       "    </tr>\n",
       "    <tr>\n",
       "      <th>8</th>\n",
       "      <td>https://judobase.ijf.org/#/competition/contest...</td>\n",
       "      <td>https://www.youtube.com/watch?v=WSa7eH5Vv9U</td>\n",
       "      <td>LOPEZ SHERIFF Estrella</td>\n",
       "      <td>THUMM Verena</td>\n",
       "    </tr>\n",
       "    <tr>\n",
       "      <th>9</th>\n",
       "      <td>https://judobase.ijf.org/#/competition/contest...</td>\n",
       "      <td>https://www.youtube.com/watch?v=hJaATsCUcwM</td>\n",
       "      <td>LOPEZ SHERIFF Estrella</td>\n",
       "      <td>BEZALEL Ariel</td>\n",
       "    </tr>\n",
       "    <tr>\n",
       "      <th>10</th>\n",
       "      <td>https://judobase.ijf.org/#/competition/contest...</td>\n",
       "      <td>https://www.youtube.com/watch?v=-2P8x2Qr6F4</td>\n",
       "      <td>LOPEZ SHERIFF Estrella</td>\n",
       "      <td>SOUKATE Ikram</td>\n",
       "    </tr>\n",
       "    <tr>\n",
       "      <th>11</th>\n",
       "      <td>https://judobase.ijf.org/#/competition/contest...</td>\n",
       "      <td>https://www.youtube.com/watch?v=D3BvcuSLpo8</td>\n",
       "      <td>LOPEZ SHERIFF Estrella</td>\n",
       "      <td>SOUKATE Ikram</td>\n",
       "    </tr>\n",
       "    <tr>\n",
       "      <th>12</th>\n",
       "      <td>https://judobase.ijf.org/#/competition/contest...</td>\n",
       "      <td>https://www.youtube.com/watch?v=g-y3AHtt_gs</td>\n",
       "      <td>LOPEZ SHERIFF Estrella</td>\n",
       "      <td>LEGENTIL Christianne</td>\n",
       "    </tr>\n",
       "  </tbody>\n",
       "</table>\n",
       "</div>"
      ],
      "text/plain": [
       "                                            url_video  \\\n",
       "0   https://judobase.ijf.org/#/competition/contest...   \n",
       "1   https://judobase.ijf.org/#/competition/contest...   \n",
       "2   https://judobase.ijf.org/#/competition/contest...   \n",
       "3   https://judobase.ijf.org/#/competition/contest...   \n",
       "4   https://judobase.ijf.org/#/competition/contest...   \n",
       "5   https://judobase.ijf.org/#/competition/contest...   \n",
       "6   https://judobase.ijf.org/#/competition/contest...   \n",
       "7   https://judobase.ijf.org/#/competition/contest...   \n",
       "8   https://judobase.ijf.org/#/competition/contest...   \n",
       "9   https://judobase.ijf.org/#/competition/contest...   \n",
       "10  https://judobase.ijf.org/#/competition/contest...   \n",
       "11  https://judobase.ijf.org/#/competition/contest...   \n",
       "12  https://judobase.ijf.org/#/competition/contest...   \n",
       "\n",
       "                                    url_youtube                   local  \\\n",
       "0   https://www.youtube.com/watch?v=8b7mZQsTmK0  LOPEZ SHERIFF Estrella   \n",
       "1   https://www.youtube.com/watch?v=HdqymnSiloc  LOPEZ SHERIFF Estrella   \n",
       "2   https://www.youtube.com/watch?v=JgPOEHOJ2jo  LOPEZ SHERIFF Estrella   \n",
       "3   https://www.youtube.com/watch?v=xpd4OZFzESk  LOPEZ SHERIFF Estrella   \n",
       "4   https://www.youtube.com/watch?v=FJmiFvoi8Ro  LOPEZ SHERIFF Estrella   \n",
       "5   https://www.youtube.com/watch?v=RfaQdGW0NwY  LOPEZ SHERIFF Estrella   \n",
       "6   https://www.youtube.com/watch?v=U00rk9umAkY  LOPEZ SHERIFF Estrella   \n",
       "7   https://www.youtube.com/watch?v=kLIefZ6V2L4  LOPEZ SHERIFF Estrella   \n",
       "8   https://www.youtube.com/watch?v=WSa7eH5Vv9U  LOPEZ SHERIFF Estrella   \n",
       "9   https://www.youtube.com/watch?v=hJaATsCUcwM  LOPEZ SHERIFF Estrella   \n",
       "10  https://www.youtube.com/watch?v=-2P8x2Qr6F4  LOPEZ SHERIFF Estrella   \n",
       "11  https://www.youtube.com/watch?v=D3BvcuSLpo8  LOPEZ SHERIFF Estrella   \n",
       "12  https://www.youtube.com/watch?v=g-y3AHtt_gs  LOPEZ SHERIFF Estrella   \n",
       "\n",
       "                opponent  \n",
       "0            PARK Da Sol  \n",
       "1       JIMENEZ Kristine  \n",
       "2          GNETO Astride  \n",
       "3        TSCHOPP Evelyne  \n",
       "4       JIMENEZ Kristine  \n",
       "5               KOSE Mai  \n",
       "6       KRASNIQI Distria  \n",
       "7         KUTSENKO Aigul  \n",
       "8           THUMM Verena  \n",
       "9          BEZALEL Ariel  \n",
       "10         SOUKATE Ikram  \n",
       "11         SOUKATE Ikram  \n",
       "12  LEGENTIL Christianne  "
      ]
     },
     "execution_count": 11,
     "metadata": {},
     "output_type": "execute_result"
    }
   ],
   "source": [
    "videos_estre"
   ]
  },
  {
   "cell_type": "markdown",
   "metadata": {},
   "source": [
    "### Do all video_urls remaining"
   ]
  },
  {
   "cell_type": "code",
   "execution_count": null,
   "metadata": {},
   "outputs": [],
   "source": [
    "proposed_videos = all_battles.loc[all_battles.category == 'men_73', 'url_video']"
   ]
  },
  {
   "cell_type": "code",
   "execution_count": 58,
   "metadata": {},
   "outputs": [
    {
     "data": {
      "text/plain": [
       "Series([], Name: url_video, dtype: object)"
      ]
     },
     "execution_count": 58,
     "metadata": {},
     "output_type": "execute_result"
    }
   ],
   "source": [
    "proposed_videos"
   ]
  },
  {
   "cell_type": "code",
   "execution_count": 20,
   "metadata": {
    "collapsed": true
   },
   "outputs": [],
   "source": [
    "all_videos = conn.as_pandas('select * from videos_info')"
   ]
  },
  {
   "cell_type": "code",
   "execution_count": 23,
   "metadata": {},
   "outputs": [
    {
     "ename": "NameError",
     "evalue": "name 'all_videos' is not defined",
     "output_type": "error",
     "traceback": [
      "\u001b[0;31m---------------------------------------------------------------------------\u001b[0m",
      "\u001b[0;31mNameError\u001b[0m                                 Traceback (most recent call last)",
      "\u001b[0;32m<ipython-input-23-43049f79a4b5>\u001b[0m in \u001b[0;36m<module>\u001b[0;34m\u001b[0m\n\u001b[0;32m----> 1\u001b[0;31m \u001b[0;32mfor\u001b[0m \u001b[0mv\u001b[0m \u001b[0;32min\u001b[0m \u001b[0mall_videos\u001b[0m\u001b[0;34m.\u001b[0m\u001b[0murl_video\u001b[0m\u001b[0;34m:\u001b[0m\u001b[0;34m\u001b[0m\u001b[0m\n\u001b[0m\u001b[1;32m      2\u001b[0m     \u001b[0mprint\u001b[0m\u001b[0;34m(\u001b[0m\u001b[0mv\u001b[0m\u001b[0;34m)\u001b[0m\u001b[0;34m\u001b[0m\u001b[0m\n",
      "\u001b[0;31mNameError\u001b[0m: name 'all_videos' is not defined"
     ]
    }
   ],
   "source": [
    "for v in all_videos.url_video:\n",
    "    print(v)"
   ]
  },
  {
   "cell_type": "code",
   "execution_count": 32,
   "metadata": {},
   "outputs": [
    {
     "ename": "AttributeError",
     "evalue": "'numpy.ndarray' object has no attribute 'isin'",
     "output_type": "error",
     "traceback": [
      "\u001b[1;31m---------------------------------------------------------------------------\u001b[0m",
      "\u001b[1;31mAttributeError\u001b[0m                            Traceback (most recent call last)",
      "\u001b[1;32m<ipython-input-32-220ecc3bdf04>\u001b[0m in \u001b[0;36m<module>\u001b[1;34m()\u001b[0m\n\u001b[1;32m----> 1\u001b[1;33m \u001b[0mall_battles\u001b[0m\u001b[1;33m.\u001b[0m\u001b[0murl_video\u001b[0m\u001b[1;33m.\u001b[0m\u001b[0mvalues\u001b[0m\u001b[1;33m.\u001b[0m\u001b[0misin\u001b[0m\u001b[1;33m(\u001b[0m\u001b[0mall_videos\u001b[0m\u001b[1;33m.\u001b[0m\u001b[0murl_video\u001b[0m\u001b[1;33m.\u001b[0m\u001b[0mvalues\u001b[0m\u001b[1;33m)\u001b[0m\u001b[1;33m.\u001b[0m\u001b[0msum\u001b[0m\u001b[1;33m(\u001b[0m\u001b[1;33m)\u001b[0m\u001b[1;33m\u001b[0m\u001b[0m\n\u001b[0m",
      "\u001b[1;31mAttributeError\u001b[0m: 'numpy.ndarray' object has no attribute 'isin'"
     ]
    }
   ],
   "source": [
    "all_battles.url_video.values.isin(all_videos.url_video.values).sum()"
   ]
  },
  {
   "cell_type": "code",
   "execution_count": 29,
   "metadata": {},
   "outputs": [
    {
     "data": {
      "text/plain": [
       "0    False\n",
       "1    False\n",
       "Name: url_video, dtype: bool"
      ]
     },
     "execution_count": 29,
     "metadata": {},
     "output_type": "execute_result"
    }
   ],
   "source": [
    "all_videos.url_video.isin(all_battles.url_video)"
   ]
  },
  {
   "cell_type": "code",
   "execution_count": 24,
   "metadata": {},
   "outputs": [
    {
     "data": {
      "text/plain": [
       "0"
      ]
     },
     "execution_count": 24,
     "metadata": {},
     "output_type": "execute_result"
    }
   ],
   "source": [
    "all_battles.url_video.isin(all_videos.url_video).sum()"
   ]
  },
  {
   "cell_type": "code",
   "execution_count": 35,
   "metadata": {},
   "outputs": [
    {
     "ename": "NameError",
     "evalue": "name 'all_videos' is not defined",
     "output_type": "error",
     "traceback": [
      "\u001b[0;31m---------------------------------------------------------------------------\u001b[0m",
      "\u001b[0;31mNameError\u001b[0m                                 Traceback (most recent call last)",
      "\u001b[0;32m<ipython-input-35-259f00f1f306>\u001b[0m in \u001b[0;36m<module>\u001b[0;34m\u001b[0m\n\u001b[0;32m----> 1\u001b[0;31m \u001b[0mall_videos\u001b[0m\u001b[0;34m.\u001b[0m\u001b[0murl_video\u001b[0m\u001b[0;34m\u001b[0m\u001b[0m\n\u001b[0m",
      "\u001b[0;31mNameError\u001b[0m: name 'all_videos' is not defined"
     ]
    }
   ],
   "source": [
    "all_videos"
   ]
  },
  {
   "cell_type": "markdown",
   "metadata": {
    "collapsed": true
   },
   "source": [
    "### Youtube downloads"
   ]
  },
  {
   "cell_type": "code",
   "execution_count": 49,
   "metadata": {
    "collapsed": true
   },
   "outputs": [],
   "source": [
    "url_youtube = videos_estre.iloc[0,1]"
   ]
  },
  {
   "cell_type": "code",
   "execution_count": 50,
   "metadata": {},
   "outputs": [
    {
     "data": {
      "text/plain": [
       "'https://www.youtube.com/watch?v=8b7mZQsTmK0'"
      ]
     },
     "execution_count": 50,
     "metadata": {},
     "output_type": "execute_result"
    }
   ],
   "source": [
    "url_youtube"
   ]
  },
  {
   "cell_type": "code",
   "execution_count": 51,
   "metadata": {
    "collapsed": true
   },
   "outputs": [],
   "source": [
    "from pytube import YouTube"
   ]
  },
  {
   "cell_type": "code",
   "execution_count": 52,
   "metadata": {
    "collapsed": true
   },
   "outputs": [],
   "source": [
    "y = YouTube(url_youtube)"
   ]
  },
  {
   "cell_type": "code",
   "execution_count": 53,
   "metadata": {
    "collapsed": true
   },
   "outputs": [],
   "source": [
    "video = y.streams.filter(res='720p', mime_type='video/mp4').first()"
   ]
  },
  {
   "cell_type": "code",
   "execution_count": 54,
   "metadata": {
    "collapsed": true
   },
   "outputs": [],
   "source": [
    "assert video is not None, 'No video'"
   ]
  },
  {
   "cell_type": "code",
   "execution_count": 55,
   "metadata": {},
   "outputs": [
    {
     "name": "stdout",
     "output_type": "stream",
     "text": [
      "CPU times: user 2.97 s, sys: 2.28 s, total: 5.25 s\n",
      "Wall time: 9.88 s\n"
     ]
    },
    {
     "data": {
      "text/plain": [
       "'/home/sheriff/Documents/projects/judo/judo/estre720.mp4'"
      ]
     },
     "execution_count": 55,
     "metadata": {},
     "output_type": "execute_result"
    }
   ],
   "source": [
    "%time video.download(filename='estre720')"
   ]
  },
  {
   "cell_type": "markdown",
   "metadata": {},
   "source": [
    "### Edición con moviepy"
   ]
  },
  {
   "cell_type": "code",
   "execution_count": 35,
   "metadata": {},
   "outputs": [
    {
     "data": {
      "text/plain": [
       "3"
      ]
     },
     "execution_count": 35,
     "metadata": {},
     "output_type": "execute_result"
    }
   ],
   "source": [
    "3"
   ]
  },
  {
   "cell_type": "code",
   "execution_count": 56,
   "metadata": {
    "collapsed": true
   },
   "outputs": [],
   "source": [
    "import requests"
   ]
  },
  {
   "cell_type": "code",
   "execution_count": 3,
   "metadata": {
    "collapsed": true
   },
   "outputs": [],
   "source": [
    "from moviepy.editor import VideoFileClip, TextClip, CompositeVideoClip, concatenate_videoclips"
   ]
  },
  {
   "cell_type": "code",
   "execution_count": 2,
   "metadata": {},
   "outputs": [
    {
     "name": "stdout",
     "output_type": "stream",
     "text": [
      "\n",
      "[MoviePy] This command returned an error !"
     ]
    },
    {
     "ename": "OSError",
     "evalue": "MoviePy Error: creation of None failed because of the following error:\n\nconvert: delegate library support not built-in '/usr/share/fonts/type1/gsfonts/b018015l.pfb' (Freetype) @ warning/annotate.c/RenderFreetype/1797.\nconvert: no decode delegate for this image format `' @ error/constitute.c/ReadImage/556.\nconvert: no images defined `PNG32:/tmp/tmp6dqv06yt.png' @ error/convert.c/ConvertImageCommand/3300.\n.\n\n.This error can be due to the fact that ImageMagick is not installed on your computer, or (for Windows users) that you didn't specify the path to the ImageMagick binary in file conf.py, or that the path you specified is incorrect",
     "output_type": "error",
     "traceback": [
      "\u001b[0;31m---------------------------------------------------------------------------\u001b[0m",
      "\u001b[0;31mOSError\u001b[0m                                   Traceback (most recent call last)",
      "\u001b[0;32m~/anaconda3/envs/video/lib/python3.7/site-packages/moviepy/video/VideoClip.py\u001b[0m in \u001b[0;36m__init__\u001b[0;34m(self, txt, filename, size, color, bg_color, fontsize, font, stroke_color, stroke_width, method, kerning, align, interline, tempfilename, temptxt, transparent, remove_temp, print_cmd)\u001b[0m\n\u001b[1;32m   1163\u001b[0m         \u001b[0;32mtry\u001b[0m\u001b[0;34m:\u001b[0m\u001b[0;34m\u001b[0m\u001b[0m\n\u001b[0;32m-> 1164\u001b[0;31m             \u001b[0msubprocess_call\u001b[0m\u001b[0;34m(\u001b[0m\u001b[0mcmd\u001b[0m\u001b[0;34m,\u001b[0m \u001b[0mverbose\u001b[0m\u001b[0;34m=\u001b[0m\u001b[0;32mFalse\u001b[0m\u001b[0;34m)\u001b[0m\u001b[0;34m\u001b[0m\u001b[0m\n\u001b[0m\u001b[1;32m   1165\u001b[0m         \u001b[0;32mexcept\u001b[0m \u001b[0;34m(\u001b[0m\u001b[0mIOError\u001b[0m\u001b[0;34m,\u001b[0m \u001b[0mOSError\u001b[0m\u001b[0;34m)\u001b[0m \u001b[0;32mas\u001b[0m \u001b[0merr\u001b[0m\u001b[0;34m:\u001b[0m\u001b[0;34m\u001b[0m\u001b[0m\n",
      "\u001b[0;32m~/anaconda3/envs/video/lib/python3.7/site-packages/moviepy/tools.py\u001b[0m in \u001b[0;36msubprocess_call\u001b[0;34m(cmd, verbose, errorprint)\u001b[0m\n\u001b[1;32m     48\u001b[0m         \u001b[0mverbose_print\u001b[0m\u001b[0;34m(\u001b[0m\u001b[0merrorprint\u001b[0m\u001b[0;34m,\u001b[0m \u001b[0;34m\"\\n[MoviePy] This command returned an error !\"\u001b[0m\u001b[0;34m)\u001b[0m\u001b[0;34m\u001b[0m\u001b[0m\n\u001b[0;32m---> 49\u001b[0;31m         \u001b[0;32mraise\u001b[0m \u001b[0mIOError\u001b[0m\u001b[0;34m(\u001b[0m\u001b[0merr\u001b[0m\u001b[0;34m.\u001b[0m\u001b[0mdecode\u001b[0m\u001b[0;34m(\u001b[0m\u001b[0;34m'utf8'\u001b[0m\u001b[0;34m)\u001b[0m\u001b[0;34m)\u001b[0m\u001b[0;34m\u001b[0m\u001b[0m\n\u001b[0m\u001b[1;32m     50\u001b[0m     \u001b[0;32melse\u001b[0m\u001b[0;34m:\u001b[0m\u001b[0;34m\u001b[0m\u001b[0m\n",
      "\u001b[0;31mOSError\u001b[0m: convert: delegate library support not built-in '/usr/share/fonts/type1/gsfonts/b018015l.pfb' (Freetype) @ warning/annotate.c/RenderFreetype/1797.\nconvert: no decode delegate for this image format `' @ error/constitute.c/ReadImage/556.\nconvert: no images defined `PNG32:/tmp/tmp6dqv06yt.png' @ error/convert.c/ConvertImageCommand/3300.\n",
      "\nDuring handling of the above exception, another exception occurred:\n",
      "\u001b[0;31mOSError\u001b[0m                                   Traceback (most recent call last)",
      "\u001b[0;32m<ipython-input-2-4a385c974e56>\u001b[0m in \u001b[0;36m<module>\u001b[0;34m\u001b[0m\n\u001b[0;32m----> 1\u001b[0;31m \u001b[0mtext0\u001b[0m \u001b[0;34m=\u001b[0m \u001b[0mTextClip\u001b[0m\u001b[0;34m(\u001b[0m\u001b[0;34m\"Primer chunk\"\u001b[0m\u001b[0;34m,\u001b[0m \u001b[0mfont\u001b[0m\u001b[0;34m=\u001b[0m\u001b[0;34m'Bookman-Demi'\u001b[0m\u001b[0;34m,\u001b[0m \u001b[0mfontsize\u001b[0m\u001b[0;34m=\u001b[0m\u001b[0;36m70\u001b[0m\u001b[0;34m,\u001b[0m \u001b[0mcolor\u001b[0m\u001b[0;34m=\u001b[0m\u001b[0;34m'red'\u001b[0m\u001b[0;34m)\u001b[0m\u001b[0;34m.\u001b[0m\u001b[0mset_position\u001b[0m\u001b[0;34m(\u001b[0m\u001b[0;34m(\u001b[0m\u001b[0;34m'right'\u001b[0m\u001b[0;34m,\u001b[0m \u001b[0;34m'top'\u001b[0m\u001b[0;34m)\u001b[0m\u001b[0;34m,\u001b[0m \u001b[0mrelative\u001b[0m\u001b[0;34m=\u001b[0m\u001b[0;32mTrue\u001b[0m\u001b[0;34m)\u001b[0m\u001b[0;34m.\u001b[0m\u001b[0mset_duration\u001b[0m\u001b[0;34m(\u001b[0m\u001b[0;36m5\u001b[0m\u001b[0;34m)\u001b[0m\u001b[0;34m\u001b[0m\u001b[0m\n\u001b[0m",
      "\u001b[0;32m~/anaconda3/envs/video/lib/python3.7/site-packages/moviepy/video/VideoClip.py\u001b[0m in \u001b[0;36m__init__\u001b[0;34m(self, txt, filename, size, color, bg_color, fontsize, font, stroke_color, stroke_width, method, kerning, align, interline, tempfilename, temptxt, transparent, remove_temp, print_cmd)\u001b[0m\n\u001b[1;32m   1171\u001b[0m                         \u001b[0;34m\"ImageMagick binary in file conf.py, or that the path \"\u001b[0m\u001b[0;34m\u001b[0m\u001b[0m\n\u001b[1;32m   1172\u001b[0m                         \"you specified is incorrect\"))\n\u001b[0;32m-> 1173\u001b[0;31m             \u001b[0;32mraise\u001b[0m \u001b[0mIOError\u001b[0m\u001b[0;34m(\u001b[0m\u001b[0merror\u001b[0m\u001b[0;34m)\u001b[0m\u001b[0;34m\u001b[0m\u001b[0m\n\u001b[0m\u001b[1;32m   1174\u001b[0m \u001b[0;34m\u001b[0m\u001b[0m\n\u001b[1;32m   1175\u001b[0m         \u001b[0mImageClip\u001b[0m\u001b[0;34m.\u001b[0m\u001b[0m__init__\u001b[0m\u001b[0;34m(\u001b[0m\u001b[0mself\u001b[0m\u001b[0;34m,\u001b[0m \u001b[0mtempfilename\u001b[0m\u001b[0;34m,\u001b[0m \u001b[0mtransparent\u001b[0m\u001b[0;34m=\u001b[0m\u001b[0mtransparent\u001b[0m\u001b[0;34m)\u001b[0m\u001b[0;34m\u001b[0m\u001b[0m\n",
      "\u001b[0;31mOSError\u001b[0m: MoviePy Error: creation of None failed because of the following error:\n\nconvert: delegate library support not built-in '/usr/share/fonts/type1/gsfonts/b018015l.pfb' (Freetype) @ warning/annotate.c/RenderFreetype/1797.\nconvert: no decode delegate for this image format `' @ error/constitute.c/ReadImage/556.\nconvert: no images defined `PNG32:/tmp/tmp6dqv06yt.png' @ error/convert.c/ConvertImageCommand/3300.\n.\n\n.This error can be due to the fact that ImageMagick is not installed on your computer, or (for Windows users) that you didn't specify the path to the ImageMagick binary in file conf.py, or that the path you specified is incorrect"
     ]
    }
   ],
   "source": [
    "text0 = TextClip(\"Primer chunk\", font='Bookman-Demi', fontsize=70, color='red').set_position(('right', 'top'), relative=True).set_duration(5)"
   ]
  },
  {
   "cell_type": "code",
   "execution_count": 3,
   "metadata": {},
   "outputs": [
    {
     "ename": "SyntaxError",
     "evalue": "invalid syntax (<ipython-input-3-f2f427ef38e1>, line 1)",
     "output_type": "error",
     "traceback": [
      "\u001b[0;36m  File \u001b[0;32m\"<ipython-input-3-f2f427ef38e1>\"\u001b[0;36m, line \u001b[0;32m1\u001b[0m\n\u001b[0;31m    text0 = TextClip(\"Primer chunk\", font='Times-Italic' fontsize=70, color='red').set_position(('right', 'top'), relative=True).set_duration(5)\u001b[0m\n\u001b[0m                                                                ^\u001b[0m\n\u001b[0;31mSyntaxError\u001b[0m\u001b[0;31m:\u001b[0m invalid syntax\n"
     ]
    }
   ],
   "source": [
    "text1 = TextClip(\"Segundo chunk\", fontsize=70, color='blue').set_position((0.4, 0), relative=True).set_duration(5)\n",
    "# text2 = TextClip(\"Tercer chunk\", fontsize=70, color='green').set_position((0.8, 0), relative=True).set_duration(5)\n",
    "\n",
    "# textos = (text0, text1, text2)"
   ]
  },
  {
   "cell_type": "code",
   "execution_count": 2,
   "metadata": {
    "collapsed": true
   },
   "outputs": [],
   "source": [
    "clip = VideoFileClip('./estre720.mp4')"
   ]
  },
  {
   "cell_type": "code",
   "execution_count": 3,
   "metadata": {},
   "outputs": [
    {
     "data": {
      "text/plain": [
       "353.85"
      ]
     },
     "execution_count": 3,
     "metadata": {},
     "output_type": "execute_result"
    }
   ],
   "source": [
    "clip.duration"
   ]
  },
  {
   "cell_type": "code",
   "execution_count": 4,
   "metadata": {
    "collapsed": true
   },
   "outputs": [],
   "source": [
    "corte = clip.subclip(40,50)"
   ]
  },
  {
   "cell_type": "code",
   "execution_count": 64,
   "metadata": {
    "collapsed": true
   },
   "outputs": [],
   "source": [
    "import pkg_resources"
   ]
  },
  {
   "cell_type": "code",
   "execution_count": 65,
   "metadata": {},
   "outputs": [
    {
     "data": {
      "text/plain": [
       "moviepy 0.2.3.5 (/home/sheriff/anaconda3/envs/video/lib/python3.7/site-packages)"
      ]
     },
     "execution_count": 65,
     "metadata": {},
     "output_type": "execute_result"
    }
   ],
   "source": [
    "pkg_resources.get_distribution('moviepy')"
   ]
  },
  {
   "cell_type": "code",
   "execution_count": 63,
   "metadata": {},
   "outputs": [
    {
     "data": {
      "text/plain": [
       "6"
      ]
     },
     "execution_count": 63,
     "metadata": {},
     "output_type": "execute_result"
    }
   ],
   "source": [
    "3+3"
   ]
  },
  {
   "cell_type": "code",
   "execution_count": 13,
   "metadata": {
    "collapsed": true
   },
   "outputs": [],
   "source": [
    "textos = concatenate_videoclips([text0, text1])"
   ]
  },
  {
   "cell_type": "code",
   "execution_count": 15,
   "metadata": {
    "collapsed": true
   },
   "outputs": [],
   "source": [
    "final_clip = CompositeVideoClip([corte, textos])"
   ]
  },
  {
   "cell_type": "code",
   "execution_count": 16,
   "metadata": {},
   "outputs": [
    {
     "data": {
      "text/plain": [
       "4"
      ]
     },
     "execution_count": 16,
     "metadata": {},
     "output_type": "execute_result"
    }
   ],
   "source": [
    "final_clip.duration"
   ]
  },
  {
   "cell_type": "code",
   "execution_count": 17,
   "metadata": {},
   "outputs": [
    {
     "name": "stdout",
     "output_type": "stream",
     "text": [
      "[MoviePy] >>>> Building video my_concatenatio2n2.mp4\n",
      "[MoviePy] Writing audio in my_concatenatio2n2TEMP_MPY_wvf_snd.mp3\n"
     ]
    },
    {
     "name": "stderr",
     "output_type": "stream",
     "text": [
      "100%|█████████████████████████████████████████████████████████████████████████████████| 89/89 [00:00<00:00, 271.76it/s]\n"
     ]
    },
    {
     "name": "stdout",
     "output_type": "stream",
     "text": [
      "[MoviePy] Done.\n",
      "[MoviePy] Writing video my_concatenatio2n2.mp4\n"
     ]
    },
    {
     "name": "stderr",
     "output_type": "stream",
     "text": [
      " 99%|███████████████████████████████████████████████████████████████████████████████▏| 100/101 [00:06<00:00, 12.44it/s]\n"
     ]
    },
    {
     "name": "stdout",
     "output_type": "stream",
     "text": [
      "[MoviePy] Done.\n",
      "[MoviePy] >>>> Video ready: my_concatenatio2n2.mp4 \n",
      "\n"
     ]
    }
   ],
   "source": [
    "final_clip.write_videofile(\"my_concatenatio2n2.mp4\")"
   ]
  }
 ],
 "metadata": {
  "kernelspec": {
   "display_name": "Python 3",
   "language": "python",
   "name": "python3"
  },
  "language_info": {
   "codemirror_mode": {
    "name": "ipython",
    "version": 3
   },
   "file_extension": ".py",
   "mimetype": "text/x-python",
   "name": "python",
   "nbconvert_exporter": "python",
   "pygments_lexer": "ipython3",
   "version": "3.7.6"
  },
  "toc": {
   "base_numbering": 1,
   "nav_menu": {},
   "number_sections": true,
   "sideBar": true,
   "skip_h1_title": false,
   "title_cell": "Table of Contents",
   "title_sidebar": "Contents",
   "toc_cell": false,
   "toc_position": {},
   "toc_section_display": true,
   "toc_window_display": true
  },
  "varInspector": {
   "cols": {
    "lenName": 16,
    "lenType": 16,
    "lenVar": 40
   },
   "kernels_config": {
    "python": {
     "delete_cmd_postfix": "",
     "delete_cmd_prefix": "del ",
     "library": "var_list.py",
     "varRefreshCmd": "print(var_dic_list())"
    },
    "r": {
     "delete_cmd_postfix": ") ",
     "delete_cmd_prefix": "rm(",
     "library": "var_list.r",
     "varRefreshCmd": "cat(var_dic_list()) "
    }
   },
   "types_to_exclude": [
    "module",
    "function",
    "builtin_function_or_method",
    "instance",
    "_Feature"
   ],
   "window_display": false
  }
 },
 "nbformat": 4,
 "nbformat_minor": 2
}
