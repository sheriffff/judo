{
 "cells": [
  {
   "cell_type": "code",
   "execution_count": 3,
   "metadata": {},
   "outputs": [],
   "source": [
    "from competitor import Competitor\n",
    "from db import conn"
   ]
  },
  {
   "cell_type": "markdown",
   "metadata": {},
   "source": [
    "## Many competitors"
   ]
  },
  {
   "cell_type": "code",
   "execution_count": 4,
   "metadata": {},
   "outputs": [],
   "source": [
    "comps = conn.as_pandas('select * from competitors where category=\"men_90\"', parse_dates=['last_extraction'])"
   ]
  },
  {
   "cell_type": "code",
   "execution_count": 5,
   "metadata": {},
   "outputs": [
    {
     "data": {
      "text/html": [
       "<div>\n",
       "<style scoped>\n",
       "    .dataframe tbody tr th:only-of-type {\n",
       "        vertical-align: middle;\n",
       "    }\n",
       "\n",
       "    .dataframe tbody tr th {\n",
       "        vertical-align: top;\n",
       "    }\n",
       "\n",
       "    .dataframe thead th {\n",
       "        text-align: right;\n",
       "    }\n",
       "</style>\n",
       "<table border=\"1\" class=\"dataframe\">\n",
       "  <thead>\n",
       "    <tr style=\"text-align: right;\">\n",
       "      <th></th>\n",
       "      <th>name</th>\n",
       "      <th>country</th>\n",
       "      <th>profile_id</th>\n",
       "      <th>category</th>\n",
       "      <th>last_extraction</th>\n",
       "    </tr>\n",
       "  </thead>\n",
       "  <tbody>\n",
       "    <tr>\n",
       "      <th>0</th>\n",
       "      <td>SHERAZADISHVILI Nikoloz</td>\n",
       "      <td>ESP</td>\n",
       "      <td>16577</td>\n",
       "      <td>men_90</td>\n",
       "      <td>2021-06-06</td>\n",
       "    </tr>\n",
       "    <tr>\n",
       "      <th>1</th>\n",
       "      <td>VAN T END Noel</td>\n",
       "      <td>NED</td>\n",
       "      <td>9301</td>\n",
       "      <td>men_90</td>\n",
       "      <td>2021-04-16</td>\n",
       "    </tr>\n",
       "    <tr>\n",
       "      <th>2</th>\n",
       "      <td>BEKAURI Lasha</td>\n",
       "      <td>GEO</td>\n",
       "      <td>30263</td>\n",
       "      <td>men_90</td>\n",
       "      <td>2021-04-16</td>\n",
       "    </tr>\n",
       "    <tr>\n",
       "      <th>3</th>\n",
       "      <td>TOTH Krisztian</td>\n",
       "      <td>HUN</td>\n",
       "      <td>3364</td>\n",
       "      <td>men_90</td>\n",
       "      <td>2021-04-16</td>\n",
       "    </tr>\n",
       "    <tr>\n",
       "      <th>4</th>\n",
       "      <td>MAJDOV Nemanja</td>\n",
       "      <td>SRB</td>\n",
       "      <td>16206</td>\n",
       "      <td>men_90</td>\n",
       "      <td>2021-05-05</td>\n",
       "    </tr>\n",
       "  </tbody>\n",
       "</table>\n",
       "</div>"
      ],
      "text/plain": [
       "                      name country profile_id category last_extraction\n",
       "0  SHERAZADISHVILI Nikoloz     ESP      16577   men_90      2021-06-06\n",
       "1           VAN T END Noel     NED       9301   men_90      2021-04-16\n",
       "2            BEKAURI Lasha     GEO      30263   men_90      2021-04-16\n",
       "3           TOTH Krisztian     HUN       3364   men_90      2021-04-16\n",
       "4           MAJDOV Nemanja     SRB      16206   men_90      2021-05-05"
      ]
     },
     "execution_count": 5,
     "metadata": {},
     "output_type": "execute_result"
    }
   ],
   "source": [
    "comps.head()"
   ]
  },
  {
   "cell_type": "code",
   "execution_count": 28,
   "metadata": {},
   "outputs": [
    {
     "data": {
      "text/html": [
       "<div>\n",
       "<style scoped>\n",
       "    .dataframe tbody tr th:only-of-type {\n",
       "        vertical-align: middle;\n",
       "    }\n",
       "\n",
       "    .dataframe tbody tr th {\n",
       "        vertical-align: top;\n",
       "    }\n",
       "\n",
       "    .dataframe thead th {\n",
       "        text-align: right;\n",
       "    }\n",
       "</style>\n",
       "<table border=\"1\" class=\"dataframe\">\n",
       "  <thead>\n",
       "    <tr style=\"text-align: right;\">\n",
       "      <th></th>\n",
       "      <th>name</th>\n",
       "      <th>country</th>\n",
       "      <th>profile_id</th>\n",
       "      <th>category</th>\n",
       "      <th>last_extraction</th>\n",
       "    </tr>\n",
       "  </thead>\n",
       "  <tbody>\n",
       "    <tr>\n",
       "      <th>14</th>\n",
       "      <td>TRIPPEL Eduard</td>\n",
       "      <td>GER</td>\n",
       "      <td>19907</td>\n",
       "      <td>men_90</td>\n",
       "      <td>2021-05-05</td>\n",
       "    </tr>\n",
       "  </tbody>\n",
       "</table>\n",
       "</div>"
      ],
      "text/plain": [
       "              name country profile_id category last_extraction\n",
       "14  TRIPPEL Eduard     GER      19907   men_90      2021-05-05"
      ]
     },
     "execution_count": 28,
     "metadata": {},
     "output_type": "execute_result"
    }
   ],
   "source": [
    "comps[comps.name.str.contains(\"Eduard\")]"
   ]
  },
  {
   "cell_type": "markdown",
   "metadata": {},
   "source": [
    "for c_name in comps.name.values:\n",
    "    c_id = comps[comps.name == c_name].iloc[0].profile_id\n",
    "    c = Competitor(c_id)\n",
    "    c.delete_info()"
   ]
  },
  {
   "cell_type": "code",
   "execution_count": 6,
   "metadata": {},
   "outputs": [
    {
     "data": {
      "text/plain": [
       "(100, 5)"
      ]
     },
     "execution_count": 6,
     "metadata": {},
     "output_type": "execute_result"
    }
   ],
   "source": [
    "comps.shape"
   ]
  },
  {
   "cell_type": "code",
   "execution_count": 7,
   "metadata": {},
   "outputs": [],
   "source": [
    "errors = []"
   ]
  },
  {
   "cell_type": "code",
   "execution_count": 12,
   "metadata": {},
   "outputs": [
    {
     "name": "stdout",
     "output_type": "stream",
     "text": [
      "page number: 1\n"
     ]
    }
   ],
   "source": [
    "c = Competitor(\"16577\")\n",
    "c.update_actions()"
   ]
  },
  {
   "cell_type": "code",
   "execution_count": null,
   "metadata": {},
   "outputs": [],
   "source": []
  },
  {
   "cell_type": "code",
   "execution_count": 29,
   "metadata": {},
   "outputs": [],
   "source": [
    "name = \"TRIPPEL\""
   ]
  },
  {
   "cell_type": "code",
   "execution_count": 30,
   "metadata": {},
   "outputs": [],
   "source": [
    "battles = conn.as_pandas('select * from battles where category=\"men_90\"')\n",
    "\n",
    "b = battles[battles.local.str.contains(\"Niko\")]\n",
    "\n",
    "actions = conn.as_pandas('select * from actions')\n",
    "\n",
    "a = actions[actions.local.str.contains(\"Nikoloz\")]"
   ]
  },
  {
   "cell_type": "markdown",
   "metadata": {},
   "source": [
    "Battles"
   ]
  },
  {
   "cell_type": "code",
   "execution_count": 31,
   "metadata": {},
   "outputs": [],
   "source": [
    "bb = b[b.opponent.str.contains(name)][['wins', 'opponent', 'event', 'date', 'round',\n",
    "       'local_points', 'opponent_points', 'duration']]"
   ]
  },
  {
   "cell_type": "code",
   "execution_count": 32,
   "metadata": {},
   "outputs": [
    {
     "data": {
      "text/plain": [
       "Index(['wins', 'opponent', 'event', 'date', 'round', 'local_points',\n",
       "       'opponent_points', 'duration'],\n",
       "      dtype='object')"
      ]
     },
     "execution_count": 32,
     "metadata": {},
     "output_type": "execute_result"
    }
   ],
   "source": [
    "bb.columns"
   ]
  },
  {
   "cell_type": "code",
   "execution_count": 33,
   "metadata": {},
   "outputs": [
    {
     "data": {
      "text/html": [
       "<div>\n",
       "<style scoped>\n",
       "    .dataframe tbody tr th:only-of-type {\n",
       "        vertical-align: middle;\n",
       "    }\n",
       "\n",
       "    .dataframe tbody tr th {\n",
       "        vertical-align: top;\n",
       "    }\n",
       "\n",
       "    .dataframe thead th {\n",
       "        text-align: right;\n",
       "    }\n",
       "</style>\n",
       "<table border=\"1\" class=\"dataframe\">\n",
       "  <thead>\n",
       "    <tr style=\"text-align: right;\">\n",
       "      <th></th>\n",
       "      <th>wins</th>\n",
       "      <th>opponent</th>\n",
       "      <th>event</th>\n",
       "      <th>date</th>\n",
       "      <th>round</th>\n",
       "      <th>local_points</th>\n",
       "      <th>opponent_points</th>\n",
       "      <th>duration</th>\n",
       "    </tr>\n",
       "  </thead>\n",
       "  <tbody>\n",
       "    <tr>\n",
       "      <th>27</th>\n",
       "      <td>1</td>\n",
       "      <td>TRIPPEL Eduard</td>\n",
       "      <td>Grand Slam Abu Dhabi 2019</td>\n",
       "      <td>2019-10-24 00:00:00</td>\n",
       "      <td>Quarter-Final</td>\n",
       "      <td>10</td>\n",
       "      <td>0</td>\n",
       "      <td>00:00</td>\n",
       "    </tr>\n",
       "  </tbody>\n",
       "</table>\n",
       "</div>"
      ],
      "text/plain": [
       "    wins        opponent                      event                 date  \\\n",
       "27     1  TRIPPEL Eduard  Grand Slam Abu Dhabi 2019  2019-10-24 00:00:00   \n",
       "\n",
       "            round local_points opponent_points duration  \n",
       "27  Quarter-Final           10               0    00:00  "
      ]
     },
     "execution_count": 33,
     "metadata": {},
     "output_type": "execute_result"
    }
   ],
   "source": [
    "bb"
   ]
  },
  {
   "cell_type": "markdown",
   "metadata": {},
   "source": [
    "Actions"
   ]
  },
  {
   "cell_type": "code",
   "execution_count": 34,
   "metadata": {},
   "outputs": [],
   "source": [
    "aa = a[a.opponent.str.contains(name)].drop_duplicates()"
   ]
  },
  {
   "cell_type": "code",
   "execution_count": 35,
   "metadata": {},
   "outputs": [
    {
     "data": {
      "text/html": [
       "<div>\n",
       "<style scoped>\n",
       "    .dataframe tbody tr th:only-of-type {\n",
       "        vertical-align: middle;\n",
       "    }\n",
       "\n",
       "    .dataframe tbody tr th {\n",
       "        vertical-align: top;\n",
       "    }\n",
       "\n",
       "    .dataframe thead th {\n",
       "        text-align: right;\n",
       "    }\n",
       "</style>\n",
       "<table border=\"1\" class=\"dataframe\">\n",
       "  <thead>\n",
       "    <tr style=\"text-align: right;\">\n",
       "      <th></th>\n",
       "      <th>local</th>\n",
       "      <th>opponent</th>\n",
       "      <th>you</th>\n",
       "      <th>action</th>\n",
       "      <th>action_detail</th>\n",
       "      <th>time</th>\n",
       "      <th>url_youtube</th>\n",
       "      <th>event</th>\n",
       "    </tr>\n",
       "  </thead>\n",
       "  <tbody>\n",
       "  </tbody>\n",
       "</table>\n",
       "</div>"
      ],
      "text/plain": [
       "Empty DataFrame\n",
       "Columns: [local, opponent, you, action, action_detail, time, url_youtube, event]\n",
       "Index: []"
      ]
     },
     "execution_count": 35,
     "metadata": {},
     "output_type": "execute_result"
    }
   ],
   "source": [
    "aa"
   ]
  },
  {
   "cell_type": "code",
   "execution_count": null,
   "metadata": {},
   "outputs": [],
   "source": []
  },
  {
   "cell_type": "code",
   "execution_count": null,
   "metadata": {},
   "outputs": [],
   "source": []
  },
  {
   "cell_type": "code",
   "execution_count": null,
   "metadata": {},
   "outputs": [],
   "source": []
  },
  {
   "cell_type": "code",
   "execution_count": 21,
   "metadata": {},
   "outputs": [
    {
     "data": {
      "text/html": [
       "<div>\n",
       "<style scoped>\n",
       "    .dataframe tbody tr th:only-of-type {\n",
       "        vertical-align: middle;\n",
       "    }\n",
       "\n",
       "    .dataframe tbody tr th {\n",
       "        vertical-align: top;\n",
       "    }\n",
       "\n",
       "    .dataframe thead th {\n",
       "        text-align: right;\n",
       "    }\n",
       "</style>\n",
       "<table border=\"1\" class=\"dataframe\">\n",
       "  <thead>\n",
       "    <tr style=\"text-align: right;\">\n",
       "      <th></th>\n",
       "      <th>index</th>\n",
       "      <th>wins</th>\n",
       "      <th>local</th>\n",
       "      <th>opponent</th>\n",
       "      <th>event</th>\n",
       "      <th>date</th>\n",
       "      <th>round</th>\n",
       "      <th>local_points</th>\n",
       "      <th>opponent_points</th>\n",
       "      <th>duration</th>\n",
       "      <th>category</th>\n",
       "      <th>has_video</th>\n",
       "      <th>competition_family</th>\n",
       "      <th>url_video</th>\n",
       "    </tr>\n",
       "  </thead>\n",
       "  <tbody>\n",
       "    <tr>\n",
       "      <th>0</th>\n",
       "      <td>0</td>\n",
       "      <td>0</td>\n",
       "      <td>SHERAZADISHVILI Nikoloz</td>\n",
       "      <td>SMINK Jesper</td>\n",
       "      <td>European Championships Lisbon 2021</td>\n",
       "      <td>2021-04-16 00:00:00</td>\n",
       "      <td>Round 2</td>\n",
       "      <td>0</td>\n",
       "      <td>10</td>\n",
       "      <td>04:39</td>\n",
       "      <td>men_90</td>\n",
       "      <td>1</td>\n",
       "      <td>Continental Championships</td>\n",
       "      <td>https://judobase.ijf.org/#/competition/contest...</td>\n",
       "    </tr>\n",
       "    <tr>\n",
       "      <th>1</th>\n",
       "      <td>1</td>\n",
       "      <td>0</td>\n",
       "      <td>SHERAZADISHVILI Nikoloz</td>\n",
       "      <td>BEKAURI Lasha</td>\n",
       "      <td>Grand Slam Tel Aviv 2021</td>\n",
       "      <td>2021-02-18 00:00:00</td>\n",
       "      <td>Final</td>\n",
       "      <td>0</td>\n",
       "      <td>10</td>\n",
       "      <td>04:00</td>\n",
       "      <td>men_90</td>\n",
       "      <td>1</td>\n",
       "      <td>Grand Slam</td>\n",
       "      <td>https://judobase.ijf.org/#/competition/contest...</td>\n",
       "    </tr>\n",
       "    <tr>\n",
       "      <th>2</th>\n",
       "      <td>2</td>\n",
       "      <td>1</td>\n",
       "      <td>SHERAZADISHVILI Nikoloz</td>\n",
       "      <td>MEHDIYEV Mammadali</td>\n",
       "      <td>Grand Slam Tel Aviv 2021</td>\n",
       "      <td>2021-02-18 00:00:00</td>\n",
       "      <td>Semi-Final</td>\n",
       "      <td>100</td>\n",
       "      <td>0</td>\n",
       "      <td>01:58</td>\n",
       "      <td>men_90</td>\n",
       "      <td>1</td>\n",
       "      <td>Grand Slam</td>\n",
       "      <td>https://judobase.ijf.org/#/competition/contest...</td>\n",
       "    </tr>\n",
       "    <tr>\n",
       "      <th>3</th>\n",
       "      <td>3</td>\n",
       "      <td>1</td>\n",
       "      <td>SHERAZADISHVILI Nikoloz</td>\n",
       "      <td>BOZBAYEV Islam</td>\n",
       "      <td>Grand Slam Tel Aviv 2021</td>\n",
       "      <td>2021-02-18 00:00:00</td>\n",
       "      <td>Quarter-Final</td>\n",
       "      <td>100</td>\n",
       "      <td>0</td>\n",
       "      <td>01:51</td>\n",
       "      <td>men_90</td>\n",
       "      <td>1</td>\n",
       "      <td>Grand Slam</td>\n",
       "      <td>https://judobase.ijf.org/#/competition/contest...</td>\n",
       "    </tr>\n",
       "    <tr>\n",
       "      <th>4</th>\n",
       "      <td>4</td>\n",
       "      <td>1</td>\n",
       "      <td>SHERAZADISHVILI Nikoloz</td>\n",
       "      <td>GROSSKLAUS Ciril</td>\n",
       "      <td>Grand Slam Tel Aviv 2021</td>\n",
       "      <td>2021-02-18 00:00:00</td>\n",
       "      <td>Round 3</td>\n",
       "      <td>100</td>\n",
       "      <td>0</td>\n",
       "      <td>03:02</td>\n",
       "      <td>men_90</td>\n",
       "      <td>1</td>\n",
       "      <td>Grand Slam</td>\n",
       "      <td>https://judobase.ijf.org/#/competition/contest...</td>\n",
       "    </tr>\n",
       "  </tbody>\n",
       "</table>\n",
       "</div>"
      ],
      "text/plain": [
       "   index  wins                    local            opponent  \\\n",
       "0      0     0  SHERAZADISHVILI Nikoloz        SMINK Jesper   \n",
       "1      1     0  SHERAZADISHVILI Nikoloz       BEKAURI Lasha   \n",
       "2      2     1  SHERAZADISHVILI Nikoloz  MEHDIYEV Mammadali   \n",
       "3      3     1  SHERAZADISHVILI Nikoloz      BOZBAYEV Islam   \n",
       "4      4     1  SHERAZADISHVILI Nikoloz    GROSSKLAUS Ciril   \n",
       "\n",
       "                                event                 date          round  \\\n",
       "0  European Championships Lisbon 2021  2021-04-16 00:00:00        Round 2   \n",
       "1            Grand Slam Tel Aviv 2021  2021-02-18 00:00:00          Final   \n",
       "2            Grand Slam Tel Aviv 2021  2021-02-18 00:00:00     Semi-Final   \n",
       "3            Grand Slam Tel Aviv 2021  2021-02-18 00:00:00  Quarter-Final   \n",
       "4            Grand Slam Tel Aviv 2021  2021-02-18 00:00:00        Round 3   \n",
       "\n",
       "  local_points opponent_points duration category  has_video  \\\n",
       "0            0              10    04:39   men_90          1   \n",
       "1            0              10    04:00   men_90          1   \n",
       "2          100               0    01:58   men_90          1   \n",
       "3          100               0    01:51   men_90          1   \n",
       "4          100               0    03:02   men_90          1   \n",
       "\n",
       "          competition_family  \\\n",
       "0  Continental Championships   \n",
       "1                 Grand Slam   \n",
       "2                 Grand Slam   \n",
       "3                 Grand Slam   \n",
       "4                 Grand Slam   \n",
       "\n",
       "                                           url_video  \n",
       "0  https://judobase.ijf.org/#/competition/contest...  \n",
       "1  https://judobase.ijf.org/#/competition/contest...  \n",
       "2  https://judobase.ijf.org/#/competition/contest...  \n",
       "3  https://judobase.ijf.org/#/competition/contest...  \n",
       "4  https://judobase.ijf.org/#/competition/contest...  "
      ]
     },
     "execution_count": 21,
     "metadata": {},
     "output_type": "execute_result"
    }
   ],
   "source": [
    "b.head()"
   ]
  },
  {
   "cell_type": "code",
   "execution_count": 14,
   "metadata": {},
   "outputs": [
    {
     "data": {
      "text/plain": [
       "(6094, 14)"
      ]
     },
     "execution_count": 14,
     "metadata": {},
     "output_type": "execute_result"
    }
   ],
   "source": [
    "battles.shape"
   ]
  },
  {
   "cell_type": "code",
   "execution_count": null,
   "metadata": {},
   "outputs": [
    {
     "name": "stdout",
     "output_type": "stream",
     "text": [
      "SHERAZADISHVILI Nikoloz\n",
      "error time data '' does not match format '%d %b %Y'\n",
      "VAN T END Noel\n",
      "error time data '' does not match format '%d %b %Y'\n",
      "BEKAURI Lasha\n",
      "error time data '' does not match format '%d %b %Y'\n",
      "TOTH Krisztian\n",
      "error time data '' does not match format '%d %b %Y'\n",
      "MAJDOV Nemanja\n",
      "error time data '' does not match format '%d %b %Y'\n",
      "SILVA MORALES Ivan Felipe\n",
      "error time data '' does not match format '%d %b %Y'\n",
      "GVINIASHVILI Beka\n",
      "error time data '' does not match format '%d %b %Y'\n",
      "IGOLNIKOV Mikhail\n",
      "error time data '' does not match format '%d %b %Y'\n",
      "MUKAI Shoichiro\n",
      "error time data '' does not match format '%d %b %Y'\n",
      "MEHDIYEV Mammadali\n",
      "error time data '' does not match format '%d %b %Y'\n",
      "NAGASAWA Kenta\n",
      "error time data '' does not match format '%d %b %Y'\n",
      "ZGANK Mihael\n",
      "error time data '' does not match format '%d %b %Y'\n",
      "BOBONOV Davlat\n",
      "error time data '' does not match format '%d %b %Y'\n",
      "NYMAN Marcus\n",
      "error time data '' does not match format '%d %b %Y'\n",
      "TRIPPEL Eduard\n",
      "error time data '' does not match format '%d %b %Y'\n",
      "GWAK Donghan\n",
      "error time data '' does not match format '%d %b %Y'\n",
      "CLERGET Axel\n",
      "error time data '' does not match format '%d %b %Y'\n",
      "MACEDO Rafael\n",
      "error time data '' does not match format '%d %b %Y'\n",
      "MURAO Sanshiro\n",
      "error time data '' does not match format '%d %b %Y'\n",
      "GANTULGA Altanbagana\n",
      "error time data '' does not match format '%d %b %Y'\n",
      "USTOPIRIYON Komronshokh\n",
      "error time data '' does not match format '%d %b %Y'\n",
      "KOCHMAN Li\n",
      "error time data '' does not match format '%d %b %Y'\n",
      "MUNGAI Nicholas\n"
     ]
    }
   ],
   "source": [
    "for c_name in comps[\"name\"].values:\n",
    "    print(c_name)\n",
    "    \n",
    "    c_id = comps[comps.name == c_name].iloc[0].profile_id\n",
    "    c = Competitor(c_id)\n",
    "    try:\n",
    "        c.update_actions()\n",
    "    except Exception as e:\n",
    "        print(\"error\", e)\n",
    "        errors.append(c_name)"
   ]
  },
  {
   "cell_type": "code",
   "execution_count": 8,
   "metadata": {},
   "outputs": [],
   "source": [
    "comps = conn.as_pandas('select * from competitors where category=\"men_66\"', parse_dates=['last_extraction'])"
   ]
  },
  {
   "cell_type": "code",
   "execution_count": 9,
   "metadata": {},
   "outputs": [
    {
     "data": {
      "text/html": [
       "<div>\n",
       "<style scoped>\n",
       "    .dataframe tbody tr th:only-of-type {\n",
       "        vertical-align: middle;\n",
       "    }\n",
       "\n",
       "    .dataframe tbody tr th {\n",
       "        vertical-align: top;\n",
       "    }\n",
       "\n",
       "    .dataframe thead th {\n",
       "        text-align: right;\n",
       "    }\n",
       "</style>\n",
       "<table border=\"1\" class=\"dataframe\">\n",
       "  <thead>\n",
       "    <tr style=\"text-align: right;\">\n",
       "      <th></th>\n",
       "      <th>name</th>\n",
       "      <th>country</th>\n",
       "      <th>profile_id</th>\n",
       "      <th>category</th>\n",
       "      <th>last_extraction</th>\n",
       "    </tr>\n",
       "  </thead>\n",
       "  <tbody>\n",
       "    <tr>\n",
       "      <th>0</th>\n",
       "      <td>LOMBARDO Manuel</td>\n",
       "      <td>ITA</td>\n",
       "      <td>18436</td>\n",
       "      <td>men_66</td>\n",
       "      <td>2014-04-16</td>\n",
       "    </tr>\n",
       "    <tr>\n",
       "      <th>1</th>\n",
       "      <td>AN Baul</td>\n",
       "      <td>KOR</td>\n",
       "      <td>9713</td>\n",
       "      <td>men_66</td>\n",
       "      <td>2014-04-16</td>\n",
       "    </tr>\n",
       "    <tr>\n",
       "      <th>2</th>\n",
       "      <td>MARGVELASHVILI Vazha</td>\n",
       "      <td>GEO</td>\n",
       "      <td>9546</td>\n",
       "      <td>men_66</td>\n",
       "      <td>2014-04-16</td>\n",
       "    </tr>\n",
       "    <tr>\n",
       "      <th>3</th>\n",
       "      <td>ABE Hifumi</td>\n",
       "      <td>JPN</td>\n",
       "      <td>13208</td>\n",
       "      <td>men_66</td>\n",
       "      <td>2014-04-16</td>\n",
       "    </tr>\n",
       "    <tr>\n",
       "      <th>4</th>\n",
       "      <td>MARUYAMA Joshiro</td>\n",
       "      <td>JPN</td>\n",
       "      <td>15144</td>\n",
       "      <td>men_66</td>\n",
       "      <td>2014-04-16</td>\n",
       "    </tr>\n",
       "  </tbody>\n",
       "</table>\n",
       "</div>"
      ],
      "text/plain": [
       "                   name country profile_id category last_extraction\n",
       "0       LOMBARDO Manuel     ITA      18436   men_66      2014-04-16\n",
       "1               AN Baul     KOR       9713   men_66      2014-04-16\n",
       "2  MARGVELASHVILI Vazha     GEO       9546   men_66      2014-04-16\n",
       "3            ABE Hifumi     JPN      13208   men_66      2014-04-16\n",
       "4      MARUYAMA Joshiro     JPN      15144   men_66      2014-04-16"
      ]
     },
     "execution_count": 9,
     "metadata": {},
     "output_type": "execute_result"
    }
   ],
   "source": [
    "comps.head()"
   ]
  },
  {
   "cell_type": "markdown",
   "metadata": {},
   "source": [
    "for c_name in comps.name.values:\n",
    "    c_id = comps[comps.name == c_name].iloc[0].profile_id\n",
    "    c = Competitor(c_id)\n",
    "    c.delete_info()"
   ]
  },
  {
   "cell_type": "code",
   "execution_count": 10,
   "metadata": {},
   "outputs": [],
   "source": [
    "errors2 = []"
   ]
  },
  {
   "cell_type": "code",
   "execution_count": 11,
   "metadata": {},
   "outputs": [
    {
     "data": {
      "text/plain": [
       "(100, 5)"
      ]
     },
     "execution_count": 11,
     "metadata": {},
     "output_type": "execute_result"
    }
   ],
   "source": [
    "comps.shape"
   ]
  },
  {
   "cell_type": "code",
   "execution_count": 12,
   "metadata": {},
   "outputs": [
    {
     "name": "stdout",
     "output_type": "stream",
     "text": [
      "LOMBARDO Manuel\n",
      "page number: 1\n",
      "page number: 2\n",
      "page number: 3\n",
      "AN Baul\n",
      "page number: 1\n",
      "page number: 2\n",
      "MARGVELASHVILI Vazha\n",
      "page number: 1\n",
      "page number: 2\n",
      "page number: 3\n",
      "error list index out of range\n",
      "ABE Hifumi\n",
      "page number: 1\n",
      "page number: 2\n",
      "MARUYAMA Joshiro\n",
      "page number: 1\n",
      "GANBOLD Kherlen\n",
      "page number: 1\n",
      "page number: 2\n",
      "SHMAILOV Baruch\n",
      "page number: 1\n",
      "page number: 2\n",
      "page number: 3\n",
      "GAITERO MARTIN Alberto\n",
      "page number: 1\n",
      "page number: 2\n",
      "page number: 3\n",
      "YONDONPERENLEI Baskhuu\n",
      "page number: 1\n",
      "page number: 2\n",
      "NURILLAEV Sardor\n",
      "page number: 1\n",
      "page number: 2\n",
      "KIM Limhwan\n",
      "page number: 1\n",
      "page number: 2\n",
      "CARGNIN Daniel\n",
      "page number: 1\n",
      "page number: 2\n",
      "page number: 3\n",
      "SERIKZHANOV Yerlan\n",
      "page number: 1\n",
      "page number: 2\n",
      "VIERU Denis\n",
      "page number: 1\n",
      "page number: 2\n",
      "page number: 3\n",
      "error list index out of range\n",
      "SHAMILOV Yakub\n",
      "page number: 1\n",
      "page number: 2\n",
      "FLICKER Tal\n",
      "page number: 1\n",
      "page number: 2\n",
      "page number: 3\n",
      "ABDELMAWGOUD Mohamed\n",
      "page number: 1\n",
      "page number: 2\n",
      "ZANTARAIA Georgii\n",
      "page number: 1\n",
      "page number: 2\n",
      "GRIGORYAN Aram\n",
      "page number: 1\n",
      "page number: 2\n",
      "SAFAROV Orkhan\n",
      "page number: 1\n",
      "page number: 2\n",
      "SHIKHALIZADA Nijat\n",
      "page number: 1\n",
      "page number: 2\n",
      "PULIAEV Mikhail\n",
      "page number: 1\n",
      "page number: 2\n",
      "error list index out of range\n",
      "ZHUMAKANOV Yeldos\n",
      "page number: 1\n",
      "page number: 2\n",
      "LIMA Willian\n",
      "page number: 1\n",
      "page number: 2\n",
      "GOMBOC Adrian\n",
      "page number: 1\n",
      "page number: 2\n",
      "error list index out of range\n",
      "ABDULZHALILOV Abdula\n",
      "page number: 1\n",
      "page number: 2\n",
      "NINIASHVILI Bagrati\n",
      "page number: 1\n",
      "page number: 2\n",
      "LE BLOUCH Kilian\n",
      "page number: 1\n",
      "page number: 2\n",
      "IADOV Bogdan\n",
      "page number: 1\n",
      "page number: 2\n",
      "MINKOU Dzmitry\n",
      "page number: 1\n",
      "page number: 2\n",
      "SEIDL Sebastian\n",
      "page number: 1\n",
      "page number: 2\n",
      "CHOPANOV Murad\n",
      "page number: 1\n",
      "page number: 2\n",
      "ABELRAHMAN Ahmed\n",
      "page number: 1\n",
      "page number: 2\n",
      "POSTIGOS Juan\n",
      "page number: 1\n",
      "page number: 2\n",
      "VAN GANSBEKE Kenneth\n",
      "page number: 1\n",
      "page number: 2\n",
      "POLANCO Orlando\n",
      "page number: 1\n",
      "BASSOU Imad\n",
      "page number: 1\n",
      "page number: 2\n",
      "PEREZ ROMAN Daniel\n",
      "page number: 1\n",
      "page number: 2\n",
      "SOLIS Oniel\n",
      "page number: 1\n",
      "AKHADOV Shakhram\n",
      "page number: 1\n",
      "TILOVOV Mukhriddin\n",
      "page number: 1\n",
      "page number: 2\n",
      "VALOIS Jacob\n",
      "page number: 1\n",
      "page number: 2\n",
      "BURNS Nathon\n",
      "page number: 1\n",
      "page number: 2\n",
      "KATZ Nathan\n",
      "page number: 1\n",
      "page number: 2\n",
      "ALIYEV Ibrahim\n",
      "page number: 1\n",
      "page number: 2\n",
      "TE Artur\n",
      "page number: 1\n",
      "page number: 2\n",
      "BUNCIC Strahinja\n",
      "page number: 1\n",
      "page number: 2\n",
      "MEDVES Matteo\n",
      "page number: 1\n",
      "page number: 2\n",
      "SHERSHAN Dzmitry\n",
      "page number: 1\n",
      "page number: 2\n",
      "TSAI Ming Yen\n",
      "page number: 1\n",
      "POLIAK Matej\n",
      "page number: 1\n",
      "page number: 2\n",
      "CRISOSTOMO Joao\n",
      "page number: 1\n",
      "page number: 2\n",
      "TEMELKOV Bozhidar\n",
      "page number: 1\n",
      "page number: 2\n",
      "DOVDON Altansukh\n",
      "page number: 1\n",
      "page number: 2\n",
      "KUANOV Yesset\n",
      "page number: 1\n",
      "WAWRZYCZEK Patryk\n",
      "page number: 1\n",
      "page number: 2\n",
      "PETRIKOV Pavel\n",
      "error No encontró la tabla apropiada en Contests\n",
      "SCHEIBEL Manuel\n",
      "page number: 1\n",
      "page number: 2\n",
      "MUNGANDU Steven\n",
      "page number: 1\n",
      "BOUSHITA Abderrahmane\n",
      "page number: 1\n",
      "page number: 2\n",
      "SAINI Jasleen Singh\n",
      "page number: 1\n",
      "GARCIA TORNE David\n",
      "page number: 1\n",
      "page number: 2\n",
      "ALMOG Tal\n",
      "page number: 1\n",
      "MATEO Wander\n",
      "page number: 1\n",
      "page number: 2\n",
      "AIDA Yuji\n",
      "page number: 1\n",
      "SANCHO CHINCHILA Ian\n",
      "page number: 1\n",
      "LOFORTE Kevin\n",
      "page number: 1\n",
      "MA Duanbin\n",
      "page number: 1\n",
      "EZZINE Wail\n",
      "page number: 1\n",
      "NURKOVIC Jusuf\n",
      "page number: 1\n",
      "page number: 2\n",
      "BUNESCU Vadim\n",
      "page number: 1\n",
      "BATTOGTOKH Erkhembayar\n",
      "page number: 1\n",
      "HERNANDEZ Juan\n",
      "page number: 1\n",
      "page number: 2\n",
      "CHIBANA Charles\n",
      "page number: 1\n",
      "page number: 2\n",
      "CASTILLO Nabor\n",
      "page number: 1\n",
      "EL IDRISSI Alaa\n",
      "page number: 1\n",
      "page number: 2\n",
      "ELIDRISSI Ayoub\n",
      "page number: 1\n",
      "CULLHAJ Indrit\n",
      "page number: 1\n",
      "ALBASHI Abdulaziz\n",
      "page number: 1\n",
      "MUDRANOV Beslan\n",
      "page number: 1\n",
      "MARCELINO Michael\n",
      "page number: 1\n",
      "page number: 2\n",
      "CESAR Diogo\n",
      "page number: 1\n",
      "SANDAL Sinan\n",
      "error No encontró la tabla apropiada en Contests\n",
      "BOROS Bence\n",
      "page number: 1\n",
      "page number: 2\n",
      "ISAEV Isa\n",
      "page number: 1\n",
      "DAVAADORJ Tumurkhuleg\n",
      "page number: 1\n",
      "MENAGED Yarin\n",
      "page number: 1\n",
      "page number: 2\n",
      "PIRAS Matteo\n",
      "page number: 1\n",
      "page number: 2\n",
      "ZHUBATKAN Sunggat\n",
      "page number: 1\n",
      "page number: 2\n",
      "OLEINIC Sergiu\n",
      "page number: 1\n",
      "page number: 2\n",
      "TAKEOKA Takeshi\n",
      "page number: 1\n",
      "BERLINER Ari\n",
      "page number: 1\n",
      "STEFANELLI Biagio\n",
      "page number: 1\n",
      "BORS DUMITRESCU Lucian\n",
      "page number: 1\n",
      "page number: 2\n",
      "CADET Gerard\n",
      "page number: 1\n",
      "VAREY Gregg\n",
      "page number: 1\n",
      "FRASCADORE Julien\n",
      "page number: 1\n",
      "JEAN Daniel\n",
      "page number: 1\n",
      "KHAMETOV Islam\n",
      "page number: 1\n",
      "MICELI Mattia\n",
      "page number: 1\n",
      "page number: 2\n",
      "page number: 3\n"
     ]
    }
   ],
   "source": [
    "for c_name in comps[\"name\"].values:\n",
    "    print(c_name)\n",
    "    \n",
    "    c_id = comps[comps.name == c_name].iloc[0].profile_id\n",
    "    c = Competitor(c_id)\n",
    "    try:\n",
    "        c.update_actions()\n",
    "    except Exception as e:\n",
    "        print(\"error\", e)\n",
    "        errors2.append(c_name)"
   ]
  },
  {
   "cell_type": "code",
   "execution_count": null,
   "metadata": {},
   "outputs": [],
   "source": []
  },
  {
   "cell_type": "code",
   "execution_count": null,
   "metadata": {},
   "outputs": [],
   "source": []
  },
  {
   "cell_type": "markdown",
   "metadata": {},
   "source": [
    "## Competitor"
   ]
  },
  {
   "cell_type": "code",
   "execution_count": 9,
   "metadata": {},
   "outputs": [],
   "source": [
    "comps = conn.as_pandas('select * from competitors where category=\"women_52\"', index_col='index', parse_dates=['last_extraction'])"
   ]
  },
  {
   "cell_type": "code",
   "execution_count": 4,
   "metadata": {},
   "outputs": [],
   "source": [
    "c = Competitor(\"35696\")"
   ]
  },
  {
   "cell_type": "markdown",
   "metadata": {},
   "source": [
    "### Update battles"
   ]
  },
  {
   "cell_type": "code",
   "execution_count": 11,
   "metadata": {},
   "outputs": [
    {
     "name": "stdout",
     "output_type": "stream",
     "text": [
      "Looking for new battles from ABE Uta\n",
      "Extracting video URLs...\n",
      "There are new battles!\n"
     ]
    }
   ],
   "source": [
    "c.update_battles()"
   ]
  },
  {
   "cell_type": "markdown",
   "metadata": {},
   "source": [
    "### Update actions"
   ]
  },
  {
   "cell_type": "code",
   "execution_count": 8,
   "metadata": {},
   "outputs": [
    {
     "name": "stdout",
     "output_type": "stream",
     "text": [
      "Looking for new battles from ABE Uta\n",
      "Up to date!\n"
     ]
    },
    {
     "ename": "AttributeError",
     "evalue": "'int' object has no attribute 'itertuples'",
     "output_type": "error",
     "traceback": [
      "\u001b[0;31m---------------------------------------------------------------------------\u001b[0m",
      "\u001b[0;31mAttributeError\u001b[0m                            Traceback (most recent call last)",
      "\u001b[0;32m<ipython-input-8-0a83d76cbf37>\u001b[0m in \u001b[0;36m<module>\u001b[0;34m\u001b[0m\n\u001b[0;32m----> 1\u001b[0;31m \u001b[0mc\u001b[0m\u001b[0;34m.\u001b[0m\u001b[0mupdate_actions\u001b[0m\u001b[0;34m(\u001b[0m\u001b[0;34m)\u001b[0m\u001b[0;34m\u001b[0m\u001b[0;34m\u001b[0m\u001b[0m\n\u001b[0m",
      "\u001b[0;32m~/Documents/coding/judo/judo/competitor.py\u001b[0m in \u001b[0;36mupdate_actions\u001b[0;34m(self)\u001b[0m\n\u001b[1;32m    141\u001b[0m         \u001b[0mall_actions\u001b[0m \u001b[0;34m=\u001b[0m \u001b[0;34m[\u001b[0m\u001b[0;34m]\u001b[0m\u001b[0;34m\u001b[0m\u001b[0;34m\u001b[0m\u001b[0m\n\u001b[1;32m    142\u001b[0m         \u001b[0mb\u001b[0m \u001b[0;34m=\u001b[0m \u001b[0;36m4\u001b[0m\u001b[0;34m\u001b[0m\u001b[0;34m\u001b[0m\u001b[0m\n\u001b[0;32m--> 143\u001b[0;31m         \u001b[0;32mfor\u001b[0m \u001b[0mbattle\u001b[0m \u001b[0;32min\u001b[0m \u001b[0mb\u001b[0m\u001b[0;34m.\u001b[0m\u001b[0mitertuples\u001b[0m\u001b[0;34m(\u001b[0m\u001b[0;34m)\u001b[0m\u001b[0;34m:\u001b[0m\u001b[0;34m\u001b[0m\u001b[0;34m\u001b[0m\u001b[0m\n\u001b[0m\u001b[1;32m    144\u001b[0m             \u001b[0;32mif\u001b[0m \u001b[0mbattle\u001b[0m\u001b[0;34m.\u001b[0m\u001b[0murl_video\u001b[0m \u001b[0;32mis\u001b[0m \u001b[0;32mNone\u001b[0m\u001b[0;34m:\u001b[0m\u001b[0;34m\u001b[0m\u001b[0;34m\u001b[0m\u001b[0m\n\u001b[1;32m    145\u001b[0m                 \u001b[0;32mcontinue\u001b[0m\u001b[0;34m\u001b[0m\u001b[0;34m\u001b[0m\u001b[0m\n",
      "\u001b[0;31mAttributeError\u001b[0m: 'int' object has no attribute 'itertuples'"
     ]
    }
   ],
   "source": [
    "c.update_actions()"
   ]
  },
  {
   "cell_type": "markdown",
   "metadata": {},
   "source": [
    "## All competitors list"
   ]
  },
  {
   "cell_type": "code",
   "execution_count": 2,
   "metadata": {},
   "outputs": [],
   "source": [
    "def extract_all_profiles_weight(driver, weight):\n",
    "    \"\"\"\n",
    "    Extract top100 competitors of given weight: name, country, profile_url. Not the WRL points, that changes much and we don't need it\n",
    "    \n",
    "    Args:\n",
    "        driver (selenium.webdriver): driver to interact with the web via selenium\n",
    "        weight (str): one of men_60, men_100+, women_70...\n",
    "        \n",
    "    Return:\n",
    "        competitors (pd.DataFrame): summary of top100 competitors\n",
    "    \"\"\"\n",
    "    # access url\n",
    "    url_top = url_leaders_by_weight[weight]\n",
    "\n",
    "    driver.get(url_top)\n",
    "    time.sleep(1)\n",
    "    try:\n",
    "        driver.maximize_window()\n",
    "    except:\n",
    "        pass\n",
    "    time.sleep(1)\n",
    "\n",
    "    \n",
    "    # extract info\n",
    "    tabla = driver.find_element_by_tag_name('tbody')\n",
    "    assert tabla.get_attribute('role') == 'alert', 'Expected table not found'\n",
    "\n",
    "    # how to treat the text of each column\n",
    "    treatment_competitor = {\n",
    "        2: lambda name: name.strip(),\n",
    "        3: lambda country: country,\n",
    "    }\n",
    "\n",
    "    competitors = []\n",
    "    for row in tabla.find_elements_by_tag_name('tr'):\n",
    "        competitor = []\n",
    "        for index, value in enumerate(row.find_elements_by_tag_name('td')):\n",
    "            if index in treatment_competitor.keys():\n",
    "                competitor.append(treatment_competitor[index](value.text))\n",
    "            elif index == 1:\n",
    "                profile_web = value.find_element_by_tag_name('img').get_attribute('src')\n",
    "                cut_from, cut_to = profile_web[::-1].find('/'), profile_web[::-1].find('.')\n",
    "                profile_id = profile_web[-cut_from : -cut_to - 1]\n",
    "\n",
    "        competitor.append(profile_id)\n",
    "        competitors.append(competitor)\n",
    "\n",
    "\n",
    "    competitors = pd.DataFrame(competitors, columns=['name', 'country', 'profile_id'])\n",
    "    competitors['category'] = weight\n",
    "    \n",
    "    \n",
    "    return competitors\n",
    "\n"
   ]
  },
  {
   "cell_type": "code",
   "execution_count": 3,
   "metadata": {},
   "outputs": [],
   "source": [
    "from config import url_leaders_by_weight"
   ]
  },
  {
   "cell_type": "code",
   "execution_count": 4,
   "metadata": {},
   "outputs": [],
   "source": [
    "from driver import driver"
   ]
  },
  {
   "cell_type": "code",
   "execution_count": 5,
   "metadata": {},
   "outputs": [],
   "source": [
    "import pandas as pd"
   ]
  },
  {
   "cell_type": "code",
   "execution_count": 6,
   "metadata": {},
   "outputs": [
    {
     "data": {
      "text/plain": [
       "3"
      ]
     },
     "execution_count": 6,
     "metadata": {},
     "output_type": "execute_result"
    }
   ],
   "source": [
    "3"
   ]
  },
  {
   "cell_type": "code",
   "execution_count": 7,
   "metadata": {},
   "outputs": [],
   "source": [
    "import time"
   ]
  },
  {
   "cell_type": "code",
   "execution_count": 8,
   "metadata": {},
   "outputs": [
    {
     "name": "stdout",
     "output_type": "stream",
     "text": [
      "men_60 ...\n",
      "men_66 ...\n",
      "men_73 ...\n",
      "men_81 ...\n",
      "men_90 ...\n",
      "men_100 ...\n",
      "men_100+ ...\n",
      "women_48 ...\n",
      "women_52 ...\n",
      "women_57 ...\n",
      "women_63 ...\n",
      "women_70 ...\n",
      "women_78 ...\n",
      "women_78+ ...\n"
     ]
    }
   ],
   "source": [
    "competitors_all = list()\n",
    "\n",
    "for weight in url_leaders_by_weight.keys():\n",
    "    print(weight, '...')\n",
    "    competitors = extract_all_profiles_weight(driver, weight)\n",
    "    competitors_all.append(competitors)\n",
    "\n",
    "competitors_all = pd.concat(competitors_all)"
   ]
  },
  {
   "cell_type": "code",
   "execution_count": 9,
   "metadata": {},
   "outputs": [],
   "source": [
    "competitors_all[\"last_extraction\"] = \"2010/01/01\""
   ]
  },
  {
   "cell_type": "code",
   "execution_count": null,
   "metadata": {},
   "outputs": [],
   "source": []
  },
  {
   "cell_type": "code",
   "execution_count": null,
   "metadata": {},
   "outputs": [],
   "source": []
  },
  {
   "cell_type": "code",
   "execution_count": null,
   "metadata": {},
   "outputs": [],
   "source": []
  },
  {
   "cell_type": "code",
   "execution_count": 11,
   "metadata": {},
   "outputs": [],
   "source": [
    "from db import conn"
   ]
  },
  {
   "cell_type": "code",
   "execution_count": 12,
   "metadata": {},
   "outputs": [],
   "source": [
    "conn.drop_table(\"competitors\")\n",
    "\n",
    "conn.add_table('competitors', competitors_all, if_exists='fail')"
   ]
  },
  {
   "cell_type": "code",
   "execution_count": null,
   "metadata": {},
   "outputs": [],
   "source": []
  }
 ],
 "metadata": {
  "kernelspec": {
   "display_name": "Python 3",
   "language": "python",
   "name": "python3"
  },
  "language_info": {
   "codemirror_mode": {
    "name": "ipython",
    "version": 3
   },
   "file_extension": ".py",
   "mimetype": "text/x-python",
   "name": "python",
   "nbconvert_exporter": "python",
   "pygments_lexer": "ipython3",
   "version": "3.8.5"
  },
  "toc": {
   "base_numbering": 1,
   "nav_menu": {},
   "number_sections": true,
   "sideBar": true,
   "skip_h1_title": false,
   "title_cell": "Table of Contents",
   "title_sidebar": "Contents",
   "toc_cell": false,
   "toc_position": {},
   "toc_section_display": true,
   "toc_window_display": false
  },
  "varInspector": {
   "cols": {
    "lenName": 16,
    "lenType": 16,
    "lenVar": 40
   },
   "kernels_config": {
    "python": {
     "delete_cmd_postfix": "",
     "delete_cmd_prefix": "del ",
     "library": "var_list.py",
     "varRefreshCmd": "print(var_dic_list())"
    },
    "r": {
     "delete_cmd_postfix": ") ",
     "delete_cmd_prefix": "rm(",
     "library": "var_list.r",
     "varRefreshCmd": "cat(var_dic_list()) "
    }
   },
   "types_to_exclude": [
    "module",
    "function",
    "builtin_function_or_method",
    "instance",
    "_Feature"
   ],
   "window_display": false
  }
 },
 "nbformat": 4,
 "nbformat_minor": 2
}
